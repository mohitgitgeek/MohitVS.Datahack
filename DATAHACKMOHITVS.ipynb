{
  "nbformat": 4,
  "nbformat_minor": 0,
  "metadata": {
    "colab": {
      "provenance": [],
      "authorship_tag": "ABX9TyNVUTdH/WM29kQ6869bwhsA",
      "include_colab_link": true
    },
    "kernelspec": {
      "name": "python3",
      "display_name": "Python 3"
    },
    "language_info": {
      "name": "python"
    }
  },
  "cells": [
    {
      "cell_type": "markdown",
      "metadata": {
        "id": "view-in-github",
        "colab_type": "text"
      },
      "source": [
        "<a href=\"https://colab.research.google.com/github/mohitgitgeek/MohitVS.Datahack/blob/main/DATAHACKMOHITVS.ipynb\" target=\"_parent\"><img src=\"https://colab.research.google.com/assets/colab-badge.svg\" alt=\"Open In Colab\"/></a>"
      ]
    },
    {
      "cell_type": "code",
      "source": [
        "import pandas as pd\n",
        "from sklearn.model_selection import train_test_split\n",
        "from sklearn.ensemble import RandomForestClassifier\n",
        "from sklearn.svm import SVC\n",
        "from sklearn.linear_model import LogisticRegression\n",
        "from sklearn.naive_bayes import GaussianNB\n",
        "from sklearn.preprocessing import StandardScaler\n",
        "from sklearn.decomposition import PCA\n",
        "from sklearn.metrics import accuracy_score\n",
        "\n",
        "# Read the data files (replace with actual file paths)\n",
        "file1_path = \"/content/training_set_features.csv\"\n",
        "file2_path = \"/content/training_set_labels.csv\"\n",
        "file3_path = \"/content/test_set_features.csv\"\n",
        "file4_path = \"/content/submission_format.csv\"\n",
        "\n",
        "# Read data into DataFrames\n",
        "df1 = pd.read_csv(file1_path)\n",
        "df2 = pd.read_csv(file2_path)\n",
        "df3 = pd.read_csv(file3_path)\n",
        "df4 = pd.read_csv(file4_path)\n",
        "\n",
        "# Combine data from all files (if needed)\n",
        "combined_df = pd.concat([df1, df2, df3, df4], ignore_index=True)\n",
        "\n",
        "# Features (select relevant features)\n",
        "selected_features = ['xyz_concern', 'xyz_knowledge', 'behavioral_antiviral_meds',\n",
        "                     'behavioral_avoidance', 'behavioral_face_mask', 'behavioral_wash_hands',\n",
        "                     'behavioral_large_gatherings', 'behavioral_outside_home',\n",
        "                     'behavioral_touch_face', 'doctor_recc_xyz', 'doctor_recc_seasonal',\n",
        "                     'chronic_med_condition', 'child_under_6_months', 'health_worker',\n",
        "                     'health_insurance', 'opinion_xyz_vacc_effective', 'opinion_xyz_risk',\n",
        "                     'opinion_xyz_sick_from_vacc', 'opinion_seas_vacc_effective',\n",
        "                     'opinion_seas_risk', 'opinion_seas_sick_from_vacc']\n",
        "\n",
        "X = combined_df[selected_features]\n",
        "y_xyz = combined_df['seasonal_vaccine']\n",
        "y_seasonal = combined_df['seasonal_vaccine']\n",
        "\n",
        "# Handle missing values\n",
        "X_imputed = X.fillna(X.mean())\n",
        "# Standardize features\n",
        "scaler = StandardScaler()\n",
        "X_scaled = scaler.fit_transform(X_imputed)\n",
        "\n",
        "# Apply PCA for feature transformation\n",
        "pca = PCA(n_components=10)\n",
        "X_pca = pca.fit_transform(X_scaled)\n",
        "\n",
        "# Initialize classifiers\n",
        "rf_xyz = RandomForestClassifier(n_estimators=100, random_state=42)\n",
        "svm_xyz = SVC(kernel='linear', C=1.0, random_state=42)\n",
        "lr_xyz = LogisticRegression(max_iter=1000, random_state=42)\n",
        "nb_xyz = GaussianNB()\n",
        "\n",
        "# Split data into train and test sets\n",
        "X_train, X_test, y_train_xyz, y_test_xyz = train_test_split(X_pca, y_xyz, test_size=0.2, random_state=42)\n",
        "\n",
        "# Handle missing values in the target variable\n",
        "y_xyz = combined_df['seasonal_vaccine'].fillna(y_xyz.mean())  # Fill NaN with mean\n",
        "\n",
        "# Split data into train and test sets (using the updated y_xyz)\n",
        "X_train, X_test, y_train_xyz, y_test_xyz = train_test_split(X_pca, y_xyz, test_size=0.2, random_state=42)\n",
        "\n",
        "# Train classifiers\n",
        "rf_xyz.fit(X_train, y_train_xyz)\n",
        "svm_xyz.fit(X_train, y_train_xyz)\n",
        "lr_xyz.fit(X_train, y_train_xyz)\n",
        "nb_xyz.fit(X_train, y_train_xyz)\n",
        "\n",
        "# Make predictions\n",
        "y_pred_rf_xyz = rf_xyz.predict(X_test)\n",
        "y_pred_svm_xyz = svm_xyz.predict(X_test)\n",
        "y_pred_lr_xyz = lr_xyz.predict(X_test)\n",
        "y_pred_nb_xyz = nb_xyz.predict(X_test)\n",
        "\n",
        "# Evaluate accuracy\n",
        "accuracy_rf_xyz = accuracy_score(y_test_xyz, y_pred_rf_xyz)\n",
        "accuracy_svm_xyz = accuracy_score(y_test_xyz, y_pred_svm_xyz)\n",
        "accuracy_lr_xyz = accuracy_score(y_test_xyz, y_pred_lr_xyz)\n",
        "accuracy_nb_xyz = accuracy_score(y_test_xyz, y_pred_nb_xyz)\n",
        "\n",
        "print(f\"Accuracy for RandomForest (xyz_vaccine): {accuracy_rf_xyz:.2f}\")\n",
        "print(f\"Accuracy for SVM (xyz_vaccine): {accuracy_svm_xyz:.2f}\")\n",
        "print(f\"Accuracy for Logistic Regression (xyz_vaccine): {accuracy_lr_xyz:.2f}\")\n",
        "print(f\"Accuracy for Naive Bayes (xyz_vaccine): {accuracy_nb_xyz:.2f}\")\n",
        "\n",
        "# Create a DataFrame with respondent_id, xyz_vaccine, and seasonal_vaccine\n",
        "results_df = pd.DataFrame({\n",
        "    'respondent_id': combined_df['respondent_id'],\n",
        "    'xyz_vaccine': y_pred_xyz,\n",
        "    'seasonal_vaccine': y_pred_seasonal\n",
        "})\n",
        "\n",
        "# Save the results to a CSV file\n",
        "results_df.to_csv('vaccine_predictions.csv', index=False)\n",
        "print(\"Results saved to vaccine_predictions.csv\")\n"
      ],
      "metadata": {
        "id": "bB9gyMMGHml7"
      },
      "execution_count": null,
      "outputs": []
    },
    {
      "cell_type": "code",
      "source": [],
      "metadata": {
        "id": "i5kC8E6sJUsT"
      },
      "execution_count": null,
      "outputs": []
    }
  ]
}